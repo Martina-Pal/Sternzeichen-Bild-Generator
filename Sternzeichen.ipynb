{
 "cells": [
  {
   "cell_type": "code",
   "execution_count": 1,
   "metadata": {},
   "outputs": [],
   "source": [
    "from PIL import Image, ImageDraw, ImageFont\n",
    "import numpy as np\n",
    "import os"
   ]
  },
  {
   "cell_type": "code",
   "execution_count": 2,
   "metadata": {},
   "outputs": [],
   "source": [
    "# Sternzeichen einlesen\n",
    "os.listdir('Sternzeichensymbole')\n",
    "sternzeichen = os.listdir('Sternzeichensymbole')"
   ]
  },
  {
   "cell_type": "code",
   "execution_count": 3,
   "metadata": {},
   "outputs": [],
   "source": [
    "# Dictonary angelegt mit den Symbolbildern geföffnet mit os.listdir()\n",
    "\n",
    "sternzeichen = {\n",
    "    \"Widder\": Image.open('Sternzeichensymbole\\kisspng-aries-astrological-sign-zodiac-astrology-astrologi-hurry-up-and-wait-the-astrology-of-march-2-18-amo-5d02df21856359.5207793315604692815464.jpg'),\n",
    "    \"Zwillinge\": Image.open('Sternzeichensymbole\\kisspng-gemini-astrological-sign-astrology-taurus-5afa509e735a41.3982569115263540784725.jpg'),\n",
    "    \"Krebs\": Image.open('Sternzeichensymbole\\kisspng-cancer-astrological-sign-zodiac-horoscope-cancer-zodiac-symbol-png-photo-5a77f3895d7ad0.5881727615178105693829.jpg'),\n",
    "    \"Loewe\": Image.open('Sternzeichensymbole\\kisspng-leo-astrological-sign-symbol-aquarius-leo-5ac01107e8a469.2321167615225367119529.jpg'),\n",
    "    \"Jungfrau\": Image.open('Sternzeichensymbole\\kisspng-virgo-symbol-sign-horoscope-icon-virgo-png-free-download-5a77ffe2a256f8.437296581517813730665.jpg'),\n",
    "    \"Waage\": Image.open('Sternzeichensymbole\\kisspng-libra-astrological-sign-zodiac-symbol-pisces-libra-astrological-sign-zodiac-horoscope-illustrat-5b3666113227a1.6691019615302917292055.jpg'),\n",
    "    \"Skorpion\": Image.open('Sternzeichensymbole\\kisspng-scorpio-astrological-sign-zodiac-astrological-symb-scorpio-astrology-5ac4b87d550489.0047328515228417253482.jpg'),\n",
    "    \"Schuetze\": Image.open('Sternzeichensymbole\\kisspng-sagittarius-astrological-sign-astrological-symbols-5b07d4bbc68200.2431045815272398678131.jpg'),\n",
    "    \"Steinbock\": Image.open('Sternzeichensymbole\\kisspng-capricorn-astrological-sign-astrological-symbols-z-5af2b291c66b85.3877370315258548658127.jpg'),\n",
    "    \"Wassermann\": Image.open('Sternzeichensymbole\\kisspng-astrological-sign-aquarius-astrological-symbols-zo-5af3b1b4960db8.3041768915259201806146.jpg'),\n",
    "    \"Fische\": Image.open('Sternzeichensymbole/kisspng-pisces-astrological-sign-symbol-astrology-zodiac-miyun-5aea3fde846f89.0286013515253012145425.jpg')\n",
    "}"
   ]
  },
  {
   "cell_type": "code",
   "execution_count": 4,
   "metadata": {},
   "outputs": [],
   "source": [
    "# Funktion fuer die Sternzecihen und Symbole\n",
    "def get_sternzeichen(tag, monat):\n",
    "    if monat == 'Januar':\n",
    "        if tag < 20:\n",
    "            return sternzeichen[\"Steinbock\"]\n",
    "        else:\n",
    "            return sternzeichen[\"Wassermann\"]\n",
    "    elif monat == 'Februar':\n",
    "        if tag < 19:\n",
    "            return sternzeichen[\"Wassermann\"]\n",
    "        else:\n",
    "            return sternzeichen[\"Fische\"]\n",
    "    elif monat == 'Maerz':\n",
    "        if tag < 21:\n",
    "            return sternzeichen[\"Fische\"]\n",
    "        else:\n",
    "            return sternzeichen[\"Widder\"]\n",
    "    elif monat == 'April':\n",
    "        if tag < 20:\n",
    "            return sternzeichen[\"Widder\"]\n",
    "        else:\n",
    "            return sternzeichen[\"Stier\"]\n",
    "    elif monat == 'Mai':\n",
    "        if tag < 21:\n",
    "            return sternzeichen[\"Stier\"]\n",
    "        else:\n",
    "            return sternzeichen[\"Zwillinge\"]\n",
    "    elif monat == 'Juni':\n",
    "        if tag < 21:\n",
    "            return sternzeichen[\"Zwillinge\"]\n",
    "        else:\n",
    "            return sternzeichen[\"Krebs\"]\n",
    "    elif monat == 'Juli':\n",
    "        if tag < 23:\n",
    "            return sternzeichen[\"Krebs\"]\n",
    "        else:\n",
    "            return sternzeichen[\"Loewe\"]\n",
    "    elif monat == 'August':\n",
    "        if tag < 23:\n",
    "            return sternzeichen[\"Loewe\"]\n",
    "        else:\n",
    "            return sternzeichen[\"Jungfrau\"]\n",
    "    elif monat == 'September':\n",
    "        if tag < 23:\n",
    "            return sternzeichen[\"Jungfrau\"]\n",
    "        else:\n",
    "            return sternzeichen[\"Waage\"]\n",
    "    elif monat == 'Oktober':\n",
    "        if tag < 23:\n",
    "            return sternzeichen[\"Waage\"]\n",
    "        else:\n",
    "            return sternzeichen[\"Scporpion\"]\n",
    "    elif monat == 'November':\n",
    "        if tag < 22:\n",
    "            return sternzeichen[\"Scorpion\"]\n",
    "        else:\n",
    "            return sternzeichen[\"Schuetze\"]\n",
    "    elif monat == 'Dezember':\n",
    "        if tag < 22:\n",
    "            return sternzeichen[\"Schuetze\"]\n",
    "        else:\n",
    "            return sternzeichen[\"Steinbock\"]\n",
    "    else:\n",
    "        return 'Ungueltiger Monat'\n",
    "    \n",
    "name = input(\"Geben Sie Ihren Vornamen ein:\")   \n",
    "tag = int(input(\"Geben Sie den Tag Ihres Geburtsdatums ein: \"))\n",
    "monat = input(\"Geben Sie den Monat Ihres Geburtsdatums ein: \")"
   ]
  },
  {
   "cell_type": "code",
   "execution_count": 5,
   "metadata": {},
   "outputs": [
    {
     "name": "stdout",
     "output_type": "stream",
     "text": [
      "(800, 800, 3)\n"
     ]
    }
   ],
   "source": [
    "# Bild öffnen\n",
    "profil_image = Image.open('Taj Mahal pic.jpeg')\n",
    "\n",
    "# Bild auf gewuenschte Groesse skalieren\n",
    "profil_image = profil_image.resize((800, 800))\n",
    "\n",
    "# Bild in ein NumPy-Array umwandeln\n",
    "image_array = np.array(profil_image)\n",
    "\n",
    "# Ueberpruefen der Form des NumPy-Arrays\n",
    "print(image_array.shape)"
   ]
  },
  {
   "cell_type": "code",
   "execution_count": 6,
   "metadata": {},
   "outputs": [],
   "source": [
    "sternzeichen_img = get_sternzeichen(tag, monat).resize((100, 100))\n",
    "\n",
    "x = profil_image.width - sternzeichen_img.width\n",
    "y = 0\n",
    "\n",
    "gray_image = sternzeichen_img.convert(\"L\")\n",
    "\n",
    "sternzeichen_image_trans = gray_image.convert('RGBA')\n",
    "\n",
    "data = sternzeichen_image_trans.getdata() \n",
    "new_data = []\n",
    "for item in data:\n",
    "    if item[0] > 100 and item[1] > 100 and item[2] > 100:\n",
    "        new_data.append((255, 255, 255, 0))  # Transparentes Pixel\n",
    "    else:\n",
    "        new_data.append(item)\n",
    "\n",
    "sternzeichen_image_trans.putdata(new_data)\n",
    "\n",
    "profil_image.paste(sternzeichen_img, (x, y), sternzeichen_image_trans)\n",
    "\n",
    "profil_image.show()"
   ]
  }
 ],
 "metadata": {
  "kernelspec": {
   "display_name": "DataCraft",
   "language": "python",
   "name": "python3"
  },
  "language_info": {
   "codemirror_mode": {
    "name": "ipython",
    "version": 3
   },
   "file_extension": ".py",
   "mimetype": "text/x-python",
   "name": "python",
   "nbconvert_exporter": "python",
   "pygments_lexer": "ipython3",
   "version": "3.10.12"
  },
  "orig_nbformat": 4
 },
 "nbformat": 4,
 "nbformat_minor": 2
}
