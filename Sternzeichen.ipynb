{
 "cells": [
  {
   "cell_type": "code",
   "execution_count": 1,
   "metadata": {},
   "outputs": [],
   "source": [
    "from PIL import Image, ImageDraw, ImageFont\n",
    "import numpy as np\n",
    "import os"
   ]
  },
  {
   "cell_type": "code",
   "execution_count": 2,
   "metadata": {},
   "outputs": [],
   "source": [
    "# Sternzeichen einlesen\n",
    "os.listdir('Sternzeichensymbole')\n",
    "sternzeichen = os.listdir('Sternzeichensymbole')"
   ]
  },
  {
   "cell_type": "code",
   "execution_count": 3,
   "metadata": {},
   "outputs": [],
   "source": [
    "# Dictonary angelegt mit den Symbolbildern geföffnet mit os.listdir()\n",
    "\n",
    "sternzeichen = {\n",
    "    \"Widder\": Image.open('Sternzeichensymbole\\Widder.jpg'),\n",
    "    \"Zwilling\": Image.open('Sternzeichensymbole\\Zwilling.jpg'),\n",
    "    \"Krebs\": Image.open('Sternzeichensymbole\\Krebs.jpg'),\n",
    "    \"Loewe\": Image.open('Sternzeichensymbole\\Loewe.jpg'),\n",
    "    \"Jungfrau\": Image.open('Sternzeichensymbole\\Jungfrau.jpg'),\n",
    "    \"Waage\": Image.open('Sternzeichensymbole\\Waage.jpg'),\n",
    "    \"Skorpion\": Image.open('Sternzeichensymbole\\Scorpion.jpg'),\n",
    "    \"Schuetze\": Image.open('Sternzeichensymbole\\Schuetze.jpg'),\n",
    "    \"Steinbock\": Image.open('Sternzeichensymbole\\Steinbock.jpg'),\n",
    "    \"Wassermann\": Image.open('Sternzeichensymbole\\Wassermann.jpg'),\n",
    "    \"Fische\": Image.open('Sternzeichensymbole\\Fisch.jpg'),\n",
    "    \"Stier\": Image.open('Sternzeichensymbole\\Stier.jpg')\n",
    "}"
   ]
  },
  {
   "cell_type": "code",
   "execution_count": 4,
   "metadata": {},
   "outputs": [],
   "source": [
    "# Funktion fuer die Sternzecihen und Symbole\n",
    "\n",
    "def get_sternzeichen(tag, monat):\n",
    "    if monat == 'Januar':\n",
    "        if tag < 20:\n",
    "            return sternzeichen[\"Steinbock\"]\n",
    "        else:\n",
    "            return sternzeichen[\"Wassermann\"]\n",
    "    elif monat == 'Februar':\n",
    "        if tag < 19:\n",
    "            return sternzeichen[\"Wassermann\"]\n",
    "        else:\n",
    "            return sternzeichen[\"Fische\"]\n",
    "    elif monat == 'Maerz':\n",
    "        if tag < 21:\n",
    "            return sternzeichen[\"Fische\"]\n",
    "        else:\n",
    "            return sternzeichen[\"Widder\"]\n",
    "    elif monat == 'April':\n",
    "        if tag < 20:\n",
    "            return sternzeichen[\"Widder\"]\n",
    "        else:\n",
    "            return sternzeichen[\"Stier\"]\n",
    "    elif monat == 'Mai':\n",
    "        if tag < 21:\n",
    "            return sternzeichen[\"Stier\"]\n",
    "        else:\n",
    "            return sternzeichen[\"Zwillinge\"]\n",
    "    elif monat == 'Juni':\n",
    "        if tag < 21:\n",
    "            return sternzeichen[\"Zwillinge\"]\n",
    "        else:\n",
    "            return sternzeichen[\"Krebs\"]\n",
    "    elif monat == 'Juli':\n",
    "        if tag < 23:\n",
    "            return sternzeichen[\"Krebs\"]\n",
    "        else:\n",
    "            return sternzeichen[\"Loewe\"]\n",
    "    elif monat == 'August':\n",
    "        if tag < 23:\n",
    "            return sternzeichen[\"Loewe\"]\n",
    "        else:\n",
    "            return sternzeichen[\"Jungfrau\"]\n",
    "    elif monat == 'September':\n",
    "        if tag < 23:\n",
    "            return sternzeichen[\"Jungfrau\"]\n",
    "        else:\n",
    "            return sternzeichen[\"Waage\"]\n",
    "    elif monat == 'Oktober':\n",
    "        if tag < 23:\n",
    "            return sternzeichen[\"Waage\"]\n",
    "        else:\n",
    "            return sternzeichen[\"Scporpion\"]\n",
    "    elif monat == 'November':\n",
    "        if tag < 22:\n",
    "            return sternzeichen[\"Scorpion\"]\n",
    "        else:\n",
    "            return sternzeichen[\"Schuetze\"]\n",
    "    elif monat == 'Dezember':\n",
    "        if tag < 22:\n",
    "            return sternzeichen[\"Schuetze\"]\n",
    "        else:\n",
    "            return sternzeichen[\"Steinbock\"]\n",
    "    else:\n",
    "        return 'Ungueltiger Monat'\n",
    "    \n",
    "name = input(\"Geben Sie Ihren Vornamen ein:\")   \n",
    "tag = int(input(\"Geben Sie den Tag Ihres Geburtsdatums ein: \"))\n",
    "monat = input(\"Geben Sie den Monat Ihres Geburtsdatums ein: \")"
   ]
  },
  {
   "cell_type": "code",
   "execution_count": 5,
   "metadata": {},
   "outputs": [
    {
     "name": "stdout",
     "output_type": "stream",
     "text": [
      "(800, 800, 3)\n"
     ]
    }
   ],
   "source": [
    "# Bild öffnen\n",
    "profil_image = Image.open('Download.jpeg')\n",
    "\n",
    "# Bild auf gewuenschte Groesse skalieren\n",
    "profil_image = profil_image.resize((800, 800))\n",
    "\n",
    "# Bild in ein NumPy-Array umwandeln\n",
    "image_array = np.array(profil_image)\n",
    "\n",
    "# Ueberpruefen der Form des NumPy-Arrays\n",
    "print(image_array.shape)"
   ]
  },
  {
   "cell_type": "code",
   "execution_count": 33,
   "metadata": {},
   "outputs": [],
   "source": [
    "# Groesse des Bildes bearbeitet\n",
    "sternzeichen_img = get_sternzeichen(tag, monat).resize((100, 100))\n",
    "\n",
    "# Berechnen die Koordinaten, um das Tierkreisbild in der oberen rechten Ecke zu platzieren\n",
    "x = profil_image.width - sternzeichen_img.width\n",
    "y = 0\n",
    "\n",
    "# Bild in Graustufen konvertiert\n",
    "gray_image = sternzeichen_img.convert(\"L\")\n",
    "\n",
    "# Transparenz hinzugefuegt\n",
    "sternzeichen_image_trans = gray_image.convert('RGBA')\n",
    "\n",
    "# Alle schwarzen Pixel transparent machen\n",
    "data = sternzeichen_image_trans.getdata() \n",
    "new_data = []\n",
    "for item in data:\n",
    "    if item[0] > 100 and item[1] > 100 and item[2] > 100:\n",
    "        new_data.append((255, 255, 255, 0))  # Transparentes Pixel\n",
    "    else:\n",
    "        new_data.append(item)\n",
    "\n",
    "sternzeichen_image_trans.putdata(new_data)\n",
    "\n",
    "# Überlagern Sie das Sternzeichenbild mit dem Profilbild\n",
    "profil_image.paste(sternzeichen_img, (x, y), sternzeichen_image_trans)\n",
    "\n",
    "profil_image.show()"
   ]
  }
 ],
 "metadata": {
  "kernelspec": {
   "display_name": "DataCraft",
   "language": "python",
   "name": "python3"
  },
  "language_info": {
   "codemirror_mode": {
    "name": "ipython",
    "version": 3
   },
   "file_extension": ".py",
   "mimetype": "text/x-python",
   "name": "python",
   "nbconvert_exporter": "python",
   "pygments_lexer": "ipython3",
   "version": "3.10.12"
  },
  "orig_nbformat": 4
 },
 "nbformat": 4,
 "nbformat_minor": 2
}
